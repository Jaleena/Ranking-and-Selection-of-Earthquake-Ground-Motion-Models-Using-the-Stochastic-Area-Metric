{
 "cells": [
  {
   "cell_type": "markdown",
   "metadata": {},
   "source": [
    "Code for the ranking of models using the PNR dataset.\n",
    "Different ranges of data (both magnitude and epicentral distrance) are included in this.\n",
    "Four different models are considered for ranking - Edwards et al, 2021, Atkinson et al, 2015, Douglas et al, 2013 and Rietbroke et al 2013.\n",
    "The tests considered for ranking are LLH test, Chi square misfit test and Area Metric."
   ]
  },
  {
   "cell_type": "code",
   "execution_count": 78,
   "metadata": {},
   "outputs": [],
   "source": [
    "import pandas as pd\n",
    "import math\n",
    "import numpy as np\n",
    "import matplotlib.pyplot as plt\n",
    "import csv\n",
    "import statsmodels.api as sm\n",
    "import statsmodels.formula.api as smf\n",
    "import seaborn as sns\n",
    "from re import compile, match\n",
    "import areametric_easy as am\n",
    "from matplotlib.ticker import ScalarFormatter"
   ]
  },
  {
   "cell_type": "code",
   "execution_count": 79,
   "metadata": {},
   "outputs": [],
   "source": [
    "#reading a csv file as pandas dataframe\n",
    "#col_list = [\"comp\",\"ID\",\"stn\",\"magnitude\",\"mag_type\",\"Mw\",\"depth\",\"hypodist\",\"fmin\",\"fmax\",\"site\",\"obs\",\"pred\",\"res\"]\n",
    "df = pd.read_csv(\"/Users/jaleenasunny/code_notebook/Data_Masking/data_Masking_data/pnr_new.csv\",sep=',')\n",
    "df_new_1 = df.dropna()\n",
    "df_new_1\n",
    "\n",
    "hypoR_0 = df_new_1[\"Rhyp (km)\"] <= 10\n",
    "hypoR_10 = df_new_1[\"Rhyp (km)\"] > 10\n",
    "\n",
    "hypoR_0_1 = (df_new_1[\"Rhyp (km)\"] <= 10) &  (df_new_1['M'] < 1)\n",
    "hypoR_10_1 = (df_new_1[\"Rhyp (km)\"] > 10) & (df_new_1['M'] < 1)\n",
    "\n",
    "hypoR_0_2 = (df_new_1[\"Rhyp (km)\"] <= 10) & (df_new_1['M'] >= 1) & (df_new_1['M'] <= 2)\n",
    "hypoR_10_2 = (df_new_1[\"Rhyp (km)\"] > 10) & (df_new_1['M'] >= 1) & (df_new_1['M'] <= 2)\n",
    "                                           \n",
    "hypoR_0_4 = (df_new_1[\"Rhyp (km)\"] <= 10) & (df_new_1['M'] > 2) & (df_new_1['M'] <= 4)\n",
    "hypoR_10_4 = (df_new_1[\"Rhyp (km)\"] > 10) & (df_new_1['M'] > 2) & (df_new_1['M'] <= 4)\n",
    "                                           \n",
    "df_0 = df_new_1[hypoR_0]\n",
    "df_10 = df_new_1[hypoR_10]\n",
    "df_0_1 = df_new_1[hypoR_0_1]\n",
    "df_10_1 = df_new_1[hypoR_10_1]\n",
    "df_0_2 = df_new_1[hypoR_0_2]\n",
    "df_10_2 = df_new_1[hypoR_10_2]                                           \n",
    "df_0_4 = df_new_1[hypoR_0_4]\n",
    "df_10_4 = df_new_1[hypoR_10_4]"
   ]
  },
  {
   "cell_type": "code",
   "execution_count": 80,
   "metadata": {},
   "outputs": [],
   "source": [
    "#Atkinson et al, 2015 is A2015\n",
    "#A2015 GMPE defined by GMM_A. The outputs are the median prediction, observed data, model prediction with sigma and the model sigma. \n",
    "def GMM_A(df_new):\n",
    "    c0 = -2.376\n",
    "    c1 = 1.818\n",
    "    c2 = -0.1153\n",
    "    c3 = -1.752\n",
    "    clin = -0.6\n",
    "    Y = []\n",
    "    hypoR = df_new['Rhyp (km)']\n",
    "    PGA_obs = df_new['PGA']\n",
    "    ID = df_new['ID']\n",
    "    station = df_new['STN']\n",
    "    mag_L = df_new['ML']\n",
    "    M = df_new[\"M\"]\n",
    "    PGA_cm = [i*100 for i in PGA_obs]\n",
    "    PGA_10 = [math.log10(i) for i in PGA_cm]\n",
    "    M_2 = [i**2 for i in M]\n",
    "    vs30 = df_new[\"Vs30\"]\n",
    "    M = M.tolist()\n",
    "    mag_L = mag_L.tolist()\n",
    "    hypoR = hypoR.tolist()\n",
    "    ID = ID.tolist()\n",
    "    station = station.tolist()\n",
    "    vs30 = vs30.tolist()\n",
    "    \n",
    "    heff = []\n",
    "    for i in range(len(M)):\n",
    "        h1 = (0.19*M[i])-0.28\n",
    "        h2 = max(1,h1)\n",
    "        heff.append(h2)\n",
    "    R = []\n",
    "    for i in range(len(hypoR)):\n",
    "        R.append(math.sqrt((hypoR[i]**2) + (heff[i]**2)))\n",
    "    \n",
    "    for i in range(len(M)):\n",
    "        y1 = c1 * M[i]\n",
    "        y2 = c2 * M[i]*M[i]\n",
    "        y3 = c3 * (math.log10(R[i]))\n",
    "        y4 = clin *math.log(min(vs30[i],1500)/760)/math.log(10)\n",
    "        Y.append(c0 + y1 + y2 + y3 + y4)\n",
    "    res = [a-b for a,b in zip(PGA_10,Y)]\n",
    "\n",
    "    Y_sigma = []\n",
    "    s = 0.37\n",
    "    np.random.seed(1)\n",
    "    z = np.random.normal(0,s,1000)\n",
    "    for i in range(len(Y)):\n",
    "        for j in range(len(z)):\n",
    "            Y_sigma.append(Y[i] + z[j])\n",
    "        \n",
    "\n",
    "    return Y, PGA_10, Y_sigma, s\n"
   ]
  },
  {
   "cell_type": "code",
   "execution_count": 81,
   "metadata": {},
   "outputs": [],
   "source": [
    "#Edwards et al 2021 is the B2021.\n",
    "#B2021 GMPE defined by GMM_B. The outputs are the median prediction, observed data, model prediction with sigma and the model sigma. \n",
    "\n",
    "def GMM_B(df_new):\n",
    "    c0 = -1.615\n",
    "    c1 = 1.7605\n",
    "    c2 = -0.1070\n",
    "    c3 = -2.2639\n",
    "    clin = -0.6\n",
    "    Y = []\n",
    "    hypoR = df_new['Rhyp (km)']\n",
    "    PGA_obs = df_new['PGA']\n",
    "    ID = df_new['ID']\n",
    "    station = df_new['STN']\n",
    "    mag_L = df_new['ML']\n",
    "    M = df_new[\"M\"]\n",
    "    PGA_cm = [i*100 for i in PGA_obs]\n",
    "    PGA_10 = [math.log10(i) for i in PGA_cm]\n",
    "    M_2 = [i**2 for i in M]\n",
    "    vs30 = df_new[\"Vs30\"]\n",
    "    M = M.tolist()\n",
    "    mag_L = mag_L.tolist()\n",
    "    hypoR = hypoR.tolist()\n",
    "    ID = ID.tolist()\n",
    "    station = station.tolist()\n",
    "    vs30 = vs30.tolist()\n",
    "    \n",
    "    heff = []\n",
    "\n",
    "    for i in range(len(M)):\n",
    "        h1 = (-0.28 + (0.19*M[i])) #-1.72+0.43\n",
    "        h2 = max(1,h1)\n",
    "        heff.append(h2)\n",
    "    R = []\n",
    "    for i in range(len(hypoR)):\n",
    "        R.append(math.sqrt((hypoR[i]**2) + (heff[i]**2)))\n",
    "    for i in range(len(M)):\n",
    "        y1 = c1 * M[i]\n",
    "        y2 = c2 * (M[i]*M[i])\n",
    "        y3 = c3 * (np.log10(R[i]))\n",
    "        y4 = clin *math.log(min(vs30[i],1500)/760)/math.log(10)\n",
    "        g = c0 + y1 + y2 + y3 + y4\n",
    "        Y.append(g)\n",
    "    res = [a-b for a,b in zip(PGA_10,Y)]\n",
    "    \n",
    "    Y_sigma = []\n",
    "    s = 0.325\n",
    "    np.random.seed(1)\n",
    "    z = np.random.normal(0,s,1000)\n",
    "    for i in range(len(Y)):\n",
    "        for j in range(len(z)):\n",
    "            Y_sigma.append(Y[i] + z[j])\n",
    "        \n",
    "    \n",
    "    return Y, PGA_10, Y_sigma, s\n"
   ]
  },
  {
   "cell_type": "code",
   "execution_count": 1,
   "metadata": {},
   "outputs": [],
   "source": [
    "#Douglas et al, 2013 is the D2013.\n",
    "#D2013 GMPE defined by GMM_D. The outputs are the median prediction, observed data, model prediction with sigma and the model sigma. \n",
    "\n",
    "def GMM_D(df_new):\n",
    "    h = 2.511\n",
    "    a = -5.984\n",
    "    b = 2.146\n",
    "    c = -1.772\n",
    "    d = -0.023\n",
    "    clin = -0.6\n",
    "    Y = []\n",
    "    hypoR = df_new['Rhyp (km)']\n",
    "    PGA_obs = df_new['PGA']\n",
    "    ID = df_new['ID']\n",
    "    station = df_new['STN']\n",
    "    mag_L = df_new['ML']\n",
    "    M = df_new[\"M\"]\n",
    "    PGA_cm = [i*100 for i in PGA_obs]\n",
    "    PGA_10 = [math.log10(i) for i in PGA_cm]\n",
    "    M_2 = [i**2 for i in M]\n",
    "    vs30 = df_new[\"Vs30\"]\n",
    "    M = M.tolist()\n",
    "    mag_L = mag_L.tolist()\n",
    "    hypoR = hypoR.tolist()\n",
    "    ID = ID.tolist()\n",
    "    station = station.tolist()\n",
    "    vs30 = vs30.tolist()\n",
    "    \n",
    "\n",
    "    R = []\n",
    "    for i in range(len(hypoR)):\n",
    "        R.append(math.sqrt((hypoR[i]**2) + (h**2)))\n",
    "    \n",
    "    Y_ln = []\n",
    "    for i in range(len(M)):\n",
    "        y1 = b * M[i]\n",
    "        y2 = c * (math.log(R[i]))\n",
    "        y3 = d * hypoR[i]\n",
    "        y4 = clin *math.log(min(vs30[i],1500)/540)#/math.log(10)\n",
    "        Y_ln.append(a + y1 + y2 + y3 + y4)\n",
    "    Y_linear = [2.718**(i) for i in Y_ln]\n",
    "    Y_cm = [i*100 for i in Y_linear]\n",
    "    Y = [math.log10(i) for i in Y_cm]\n",
    "    res = [a-b for a,b in zip(PGA_10,Y)]\n",
    "    Y_sigma = []\n",
    "    s = 0.498\n",
    "    np.random.seed(1)\n",
    "    z = np.random.normal(0,s,1000)\n",
    "    for i in range(len(Y)):\n",
    "        for j in range(len(z)):\n",
    "            Y_sigma.append(Y[i] + z[j])\n",
    "        \n",
    "    Y_sigma_LLH = []\n",
    "    np.random.seed(1)\n",
    "    z = np.random.normal(0,s,1)\n",
    "    for i in range(len(Y)):\n",
    "        for j in range(len(z)):\n",
    "            Y_sigma_LLH.append(Y[i] + z[j])\n",
    "    return Y, PGA_10, Y_sigma, s\n"
   ]
  },
  {
   "cell_type": "code",
   "execution_count": 2,
   "metadata": {},
   "outputs": [],
   "source": [
    "#Rietbroke et al, 2013 is the R2013.\n",
    "#R2013 GMPE defined by GMM_R. The outputs are the median prediction, observed data, model prediction with sigma and the model sigma. \n",
    "#This is the magnitude dependent model from the paper\n",
    "def GMM_R(df_new):\n",
    "    c1 = -2.6934\n",
    "    c2 = 1.7682 \n",
    "    c3 = -0.1366 \n",
    "    c4 = -1.8544 \n",
    "    c5 = 0.2123\n",
    "    c6 = -1.8467\n",
    "    c7 = 0.1590\n",
    "    c10 = 0.00288 \n",
    "    Y = []\n",
    "    hypoR = df_new['Rhyp (km)']\n",
    "    PGA_obs = df_new['PGA']\n",
    "    ID = df_new['ID']\n",
    "    station = df_new['STN']\n",
    "    mag_L = df_new['ML']\n",
    "    M = df_new[\"M\"]\n",
    "    PGA_cm = [i*100 for i in PGA_obs]\n",
    "    PGA_10 = [math.log10(i) for i in PGA_cm]\n",
    "    M_2 = [i**2 for i in M]\n",
    "    vs30 = df_new[\"Vs30\"]\n",
    "    M = M.tolist()\n",
    "    mag_L = mag_L.tolist()\n",
    "    hypoR = hypoR.tolist()\n",
    "    ID = ID.tolist()\n",
    "    station = station.tolist()\n",
    "    vs30 = vs30.tolist()\n",
    "    \n",
    "    heff=2.1589\n",
    "    R = []\n",
    "    for i in range(len(hypoR)):\n",
    "        R.append(math.sqrt((hypoR[i]**2) + (heff**2)))\n",
    "    \n",
    "    Y = []\n",
    "    for i in range(len(M)):\n",
    "        y1 = c2 * M[i]\n",
    "        y2 = c3 * M_2[i]\n",
    "        y3_1 = c4 + c5 * M[i]\n",
    "        y4_1 = c6 + c7 * M[i]\n",
    "        if R[i]<=10:\n",
    "            f0 = math.log10(10/R[i])\n",
    "            y3 = f0*y3_1\n",
    "        else:\n",
    "            y3 = 0\n",
    "        \n",
    "        if R[i] < 50 and R[i]>10:\n",
    "            f1 = math.log10(R[i]/1.0)\n",
    "            y4 = f1*y4_1\n",
    "        else:\n",
    "            y4 = 0\n",
    "        y5 = c10 * R[i]\n",
    "        Y.append(c1 + y1 + y2 + y3 + y4 + y5)\n",
    "    res = [a-b for a,b in zip(PGA_10,Y)]\n",
    "    Y_sigma = []\n",
    "    s = 0.335\n",
    "    np.random.seed(1)\n",
    "    z = np.random.normal(0,s,1000)\n",
    "    for i in range(len(Y)):\n",
    "        for j in range(len(z)):\n",
    "            Y_sigma.append(Y[i] + z[j])\n",
    "        \n",
    "\n",
    "    return Y, PGA_10, Y_sigma, s\n"
   ]
  },
  {
   "cell_type": "code",
   "execution_count": 3,
   "metadata": {},
   "outputs": [],
   "source": [
    "#log likelihood test (LLH). This test used the observed data, median prediction and the sigma\n",
    "def LLH(data,pred,s):\n",
    "    from scipy.stats import norm\n",
    "    f = 0\n",
    "    n = len(data)\n",
    "    for i in range (len(data)):\n",
    "        k = data[i]\n",
    "        p = pred[i]\n",
    "        v = norm.pdf(k,p,s)   #s is the sigma of gmpe\n",
    "        l = math.log2(v)\n",
    "        f = f+l\n",
    "    llh = f/n #f/no. of total data\n",
    "    return -llh"
   ]
  },
  {
   "cell_type": "code",
   "execution_count": 85,
   "metadata": {},
   "outputs": [],
   "source": [
    "#chi-square Misfit (CHISQ-MF) test. This test used the observed data, median prediction and the sigma\n",
    "def CHIMF (data,pred_without_sigma,s):\n",
    "    f =0\n",
    "    n = len(data)\n",
    "    for i in range(n):\n",
    "        sq = ((data[i]-pred_without_sigma[i])/s)**2\n",
    "        f = f+sq\n",
    "    CHI = f/n\n",
    "    return CHI"
   ]
  },
  {
   "cell_type": "code",
   "execution_count": 95,
   "metadata": {},
   "outputs": [],
   "source": [
    "#All the desired tests for the paper - LLH, CHISQ-MF and the AM.\n",
    "def tests(data,GMM):\n",
    "    Y, PGA_10, Y_sigma, s =  GMM(data)\n",
    "    lh = LLH(PGA_10,Y,s)\n",
    "    chisq = CHIMF(PGA_10,Y,s)\n",
    "    llh = lh\n",
    "    AM = am.areaMe(PGA_10,Y_sigma)\n",
    "    return AM, llh, chisq, am.plot(PGA_10,Y_sigma)\n",
    "    "
   ]
  },
  {
   "cell_type": "code",
   "execution_count": 97,
   "metadata": {},
   "outputs": [
    {
     "data": {
      "image/png": "[encoded data removed]",
      "text/plain": [
       "<Figure size 864x576 with 1 Axes>"
      ]
     },
     "metadata": {
      "needs_background": "light"
     },
     "output_type": "display_data"
    }
   ],
   "source": [
    "AM_final,LLH_final,CHISQ_final,plot = tests(df_10_1,GMM_A)"
   ]
  },
  {
   "cell_type": "code",
   "execution_count": 98,
   "metadata": {},
   "outputs": [
    {
     "name": "stdout",
     "output_type": "stream",
     "text": [
      "1.1971897038641006 11.317569182299875 15.840109819284956\n"
     ]
    }
   ],
   "source": [
    "print(AM_final,LLH_final,CHISQ_final)"
   ]
  },
  {
   "cell_type": "code",
   "execution_count": null,
   "metadata": {},
   "outputs": [],
   "source": []
  },
  {
   "cell_type": "code",
   "execution_count": 99,
   "metadata": {},
   "outputs": [
    {
     "data": {
      "image/png": "[encoded data removed]",
      "text/plain": [
       "<Figure size 864x576 with 1 Axes>"
      ]
     },
     "metadata": {
      "needs_background": "light"
     },
     "output_type": "display_data"
    }
   ],
   "source": [
    "AM_final,LLH_final,CHISQ_final,plot = tests(df_10_1,GMM_B)"
   ]
  },
  {
   "cell_type": "code",
   "execution_count": 100,
   "metadata": {},
   "outputs": [
    {
     "name": "stdout",
     "output_type": "stream",
     "text": [
      "1.0105909907078112 11.410922744915402 16.228880983346382\n"
     ]
    }
   ],
   "source": [
    "print(AM_final,LLH_final,CHISQ_final)"
   ]
  },
  {
   "cell_type": "code",
   "execution_count": null,
   "metadata": {},
   "outputs": [],
   "source": []
  },
  {
   "cell_type": "code",
   "execution_count": 101,
   "metadata": {},
   "outputs": [
    {
     "data": {
      "image/png": "[encoded data removed]",
      "text/plain": [
       "<Figure size 864x576 with 1 Axes>"
      ]
     },
     "metadata": {
      "needs_background": "light"
     },
     "output_type": "display_data"
    }
   ],
   "source": [
    "AM_final,LLH_final,CHISQ_final,plot = tests(df_10_1,GMM_D)"
   ]
  },
  {
   "cell_type": "code",
   "execution_count": 102,
   "metadata": {},
   "outputs": [
    {
     "name": "stdout",
     "output_type": "stream",
     "text": [
      "0.47171376883312255 1.7832866702903625 0.3599835125799829\n"
     ]
    }
   ],
   "source": [
    "print(AM_final,LLH_final,CHISQ_final)"
   ]
  },
  {
   "cell_type": "code",
   "execution_count": null,
   "metadata": {},
   "outputs": [],
   "source": []
  },
  {
   "cell_type": "code",
   "execution_count": 103,
   "metadata": {},
   "outputs": [
    {
     "data": {
      "image/png": "[encoded data removed]",
      "text/plain": [
       "<Figure size 864x576 with 1 Axes>"
      ]
     },
     "metadata": {
      "needs_background": "light"
     },
     "output_type": "display_data"
    }
   ],
   "source": [
    "AM_final,LLH_final,CHISQ_final,plot = tests(df_10_1,GMM_R)"
   ]
  },
  {
   "cell_type": "code",
   "execution_count": 104,
   "metadata": {},
   "outputs": [
    {
     "name": "stdout",
     "output_type": "stream",
     "text": [
      "1.829480265438043 26.31471125904103 36.82930826081147\n"
     ]
    }
   ],
   "source": [
    "print(AM_final,LLH_final,CHISQ_final)"
   ]
  },
  {
   "cell_type": "code",
   "execution_count": null,
   "metadata": {},
   "outputs": [],
   "source": []
  }
 ],
 "metadata": {
  "kernelspec": {
   "display_name": "Python 3",
   "language": "python",
   "name": "python3"
  },
  "language_info": {
   "codemirror_mode": {
    "name": "ipython",
    "version": 3
   },
   "file_extension": ".py",
   "mimetype": "text/x-python",
   "name": "python",
   "nbconvert_exporter": "python",
   "pygments_lexer": "ipython3",
   "version": "3.7.4"
  }
 },
 "nbformat": 4,
 "nbformat_minor": 4
}
